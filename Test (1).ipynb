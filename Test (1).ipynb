{
 "cells": [
  {
   "cell_type": "markdown",
   "id": "db02fd21-342b-41ac-85e1-a8dab55bc3be",
   "metadata": {},
   "source": [
    "1) First character of variable can be an alphabet or (_) underscore, Special characters (@,#,$,*) should not used in variable name, Variable names are case sensitive."
   ]
  },
  {
   "cell_type": "markdown",
   "id": "0066b530-e0ad-4b37-9d42-f5e005c139c2",
   "metadata": {},
   "source": [
    "2) if we declare a restricted keyword as a variable then we will get a SyntaxError."
   ]
  },
  {
   "cell_type": "markdown",
   "id": "a399c8fc-ac1f-41eb-bce6-40d6153fbc43",
   "metadata": {},
   "source": [
    "3) yes, we actually declare a string as a variable name."
   ]
  },
  {
   "cell_type": "markdown",
   "id": "3d64af96-614e-4948-bcdb-c89ee42b4b6e",
   "metadata": {},
   "source": [
    "4) yes, it is possible for us to declare \"_\" as a variable. ex. vari_ble"
   ]
  },
  {
   "cell_type": "markdown",
   "id": "9742f6f1-0165-46e1-99cf-4ad316f2e0d7",
   "metadata": {},
   "source": [
    "5) Python allows one to add an integer and a floating point number, but adding an integer to  String produces error."
   ]
  },
  {
   "cell_type": "code",
   "execution_count": null,
   "id": "a41768eb-979a-4ecf-9ffc-692783a91bf6",
   "metadata": {},
   "outputs": [],
   "source": []
  }
 ],
 "metadata": {
  "kernelspec": {
   "display_name": "Python 3 (ipykernel)",
   "language": "python",
   "name": "python3"
  },
  "language_info": {
   "codemirror_mode": {
    "name": "ipython",
    "version": 3
   },
   "file_extension": ".py",
   "mimetype": "text/x-python",
   "name": "python",
   "nbconvert_exporter": "python",
   "pygments_lexer": "ipython3",
   "version": "3.10.8"
  }
 },
 "nbformat": 4,
 "nbformat_minor": 5
}
